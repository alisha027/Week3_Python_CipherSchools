{
 "cells": [
  {
   "attachments": {},
   "cell_type": "markdown",
   "metadata": {},
   "source": [
    "## Inheritance"
   ]
  },
  {
   "cell_type": "code",
   "execution_count": 5,
   "metadata": {},
   "outputs": [],
   "source": [
    "class A:\n",
    "    def __init__(self):\n",
    "        print(\"A init executed\")\n",
    "class B(A):\n",
    "    def __init__(self):\n",
    "        super().__init__()\n",
    "        print(\"B init executed\")\n",
    "\n",
    "        "
   ]
  },
  {
   "cell_type": "code",
   "execution_count": 7,
   "metadata": {},
   "outputs": [
    {
     "name": "stdout",
     "output_type": "stream",
     "text": [
      "A init executed\n",
      "B init executed\n"
     ]
    }
   ],
   "source": [
    "\n",
    "abc = B()"
   ]
  },
  {
   "cell_type": "code",
   "execution_count": 10,
   "metadata": {},
   "outputs": [
    {
     "name": "stdout",
     "output_type": "stream",
     "text": [
      "(Initialised SchoolMember : Drake)\n",
      "(Initialised Teacher: Drake)\n",
      "(Initialised SchoolMember : Joey)\n",
      "(Initialised Student: Joey)\n"
     ]
    }
   ],
   "source": [
    "class SchoolMember:\n",
    "    def __init__(self, name, age):\n",
    "        self.name = name\n",
    "        self.age = age\n",
    "        print(\"(Initialised SchoolMember : {})\".format(self.name))\n",
    "    def tell(self):\n",
    "        print(\"Name:'{}' Age: '{}'\".format(self.name,self.age), end=\" \")\n",
    "    \n",
    "class Teacher(SchoolMember):\n",
    "    def __init__(self,name, age, salary):\n",
    "        super().__init__(name, age)\n",
    "        self.salary = salary\n",
    "        print(\"(Initialised Teacher: {})\".format(self.name))\n",
    "    \n",
    "\n",
    "    def tell(self):\n",
    "        super().tell()\n",
    "        print(\"Salary: '{:d}'\".format(self.salary))\n",
    "\n",
    "class Student(SchoolMember):\n",
    "    def __init__(self, name, age, marks):\n",
    "        super().__init__(name, age)\n",
    "        self.marks = marks\n",
    "        print(\"(Initialised Student: {})\".format(self.name))\n",
    "\n",
    "    def tell(self):\n",
    "        super().tell()\n",
    "        print(\"Marks: '{:d}'\".format(self.marks))\n",
    "\n",
    "\n",
    "t = Teacher(\"Drake\",30, 99000)\n",
    "s = Student(\"Joey\",16,99)"
   ]
  },
  {
   "cell_type": "code",
   "execution_count": null,
   "metadata": {},
   "outputs": [],
   "source": []
  },
  {
   "attachments": {},
   "cell_type": "markdown",
   "metadata": {},
   "source": [
    "### Method Resolution Order (MRO)"
   ]
  },
  {
   "cell_type": "code",
   "execution_count": 11,
   "metadata": {},
   "outputs": [],
   "source": [
    "class A:\n",
    "    pass\n",
    "\n",
    "class B(A):\n",
    "    pass\n",
    "\n",
    "class C(B):\n",
    "    x = 5\n",
    "\n",
    "class D(A):\n",
    "    x = 10\n",
    "    \n",
    "class E(C,D):\n",
    "    pass\n"
   ]
  },
  {
   "cell_type": "code",
   "execution_count": 12,
   "metadata": {},
   "outputs": [],
   "source": [
    "e = E()\n"
   ]
  },
  {
   "cell_type": "code",
   "execution_count": 13,
   "metadata": {},
   "outputs": [
    {
     "name": "stdout",
     "output_type": "stream",
     "text": [
      "5\n"
     ]
    }
   ],
   "source": [
    "print(e.x)"
   ]
  },
  {
   "cell_type": "code",
   "execution_count": 14,
   "metadata": {},
   "outputs": [
    {
     "data": {
      "text/plain": [
       "[__main__.E, __main__.C, __main__.B, __main__.D, __main__.A, object]"
      ]
     },
     "execution_count": 14,
     "metadata": {},
     "output_type": "execute_result"
    }
   ],
   "source": [
    "E.mro()"
   ]
  },
  {
   "attachments": {},
   "cell_type": "markdown",
   "metadata": {},
   "source": [
    "- DFS \n",
    "- if there is a loop solve branches differently"
   ]
  },
  {
   "attachments": {},
   "cell_type": "markdown",
   "metadata": {},
   "source": [
    "#### Iteration Protocol\n",
    " For any object to be an iterable,  it should have 2 dunders\n",
    " - `__iter__`\n",
    " - `__next__`\n",
    "\n",
    " #### Protocol\n",
    " - Object's `__iter__` method should return an iterator\n",
    " - Iterator's `__next__` method should return the new value on very cell\n",
    " - If the iterator reaches the end, it should raise an StopIteration exception\n",
    " \n"
   ]
  },
  {
   "cell_type": "code",
   "execution_count": 15,
   "metadata": {},
   "outputs": [],
   "source": [
    "a = range(5)\n"
   ]
  },
  {
   "cell_type": "code",
   "execution_count": 16,
   "metadata": {},
   "outputs": [],
   "source": [
    "it = iter(a)"
   ]
  },
  {
   "cell_type": "code",
   "execution_count": 17,
   "metadata": {},
   "outputs": [
    {
     "data": {
      "text/plain": [
       "<range_iterator at 0x239a80caa90>"
      ]
     },
     "execution_count": 17,
     "metadata": {},
     "output_type": "execute_result"
    }
   ],
   "source": [
    "it"
   ]
  },
  {
   "cell_type": "code",
   "execution_count": 25,
   "metadata": {},
   "outputs": [
    {
     "ename": "StopIteration",
     "evalue": "",
     "output_type": "error",
     "traceback": [
      "\u001b[1;31m---------------------------------------------------------------------------\u001b[0m",
      "\u001b[1;31mStopIteration\u001b[0m                             Traceback (most recent call last)",
      "Cell \u001b[1;32mIn[25], line 1\u001b[0m\n\u001b[1;32m----> 1\u001b[0m \u001b[39mnext\u001b[39;49m(it)\n",
      "\u001b[1;31mStopIteration\u001b[0m: "
     ]
    }
   ],
   "source": [
    "next(it)\n"
   ]
  },
  {
   "cell_type": "code",
   "execution_count": 31,
   "metadata": {},
   "outputs": [],
   "source": [
    "class myrange:\n",
    "    def __init__(self, n):\n",
    "        self.n = n\n",
    "\n",
    "    def __iter__(self):\n",
    "        return myrange_iterators(self)\n",
    "\n",
    "class myrange_iterators:\n",
    "    def __init__(self, myrange):\n",
    "        self.myrange = myrange\n",
    "        self.i = 0\n",
    "\n",
    "    def __next__(self):\n",
    "        ret = self.i\n",
    "        self.i += 1 \n",
    "\n",
    "        if ret >= self.myrange.n:\n",
    "            raise StopIteration\n",
    "\n",
    "        return ret"
   ]
  },
  {
   "cell_type": "code",
   "execution_count": 27,
   "metadata": {},
   "outputs": [],
   "source": [
    "a = myrange(5)"
   ]
  },
  {
   "cell_type": "code",
   "execution_count": 28,
   "metadata": {},
   "outputs": [],
   "source": [
    "it = iter(a)"
   ]
  },
  {
   "cell_type": "code",
   "execution_count": 29,
   "metadata": {},
   "outputs": [
    {
     "data": {
      "text/plain": [
       "0"
      ]
     },
     "execution_count": 29,
     "metadata": {},
     "output_type": "execute_result"
    }
   ],
   "source": [
    "next(it)"
   ]
  },
  {
   "cell_type": "code",
   "execution_count": null,
   "metadata": {},
   "outputs": [],
   "source": []
  }
 ],
 "metadata": {
  "kernelspec": {
   "display_name": "Python 3",
   "language": "python",
   "name": "python3"
  },
  "language_info": {
   "codemirror_mode": {
    "name": "ipython",
    "version": 3
   },
   "file_extension": ".py",
   "mimetype": "text/x-python",
   "name": "python",
   "nbconvert_exporter": "python",
   "pygments_lexer": "ipython3",
   "version": "3.10.7"
  },
  "orig_nbformat": 4,
  "vscode": {
   "interpreter": {
    "hash": "d7e02be9b998c49b29c93fb110217049b290f21a9cc73c00e7cb6e2c8f3f70f7"
   }
  }
 },
 "nbformat": 4,
 "nbformat_minor": 2
}
